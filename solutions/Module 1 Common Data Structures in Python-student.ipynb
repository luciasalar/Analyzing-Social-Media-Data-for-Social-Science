{
 "cells": [
  {
   "cell_type": "markdown",
   "id": "8be44187",
   "metadata": {},
   "source": [
    "# Goals \n",
    "\n",
    "In this module, you will learn:\n",
    "\n",
    "1. Some common data structures in Python: list, array, tuple, dictionary and their properties\n",
    "\n",
    "2. Access the elements of these data structures, do operations on the items\n",
    "\n",
    "# Tasks\n",
    "\n",
    "There are seven small tasks to guide you through the study, please spend some time to work on these tasks. I will upload the answers to these tasks to my Github after the tutorial"
   ]
  },
  {
   "cell_type": "markdown",
   "id": "236a50ad",
   "metadata": {},
   "source": [
    "# List"
   ]
  },
  {
   "cell_type": "markdown",
   "id": "d4b201d1",
   "metadata": {},
   "source": [
    "List allows you to store element of different data types, list items are ordered, mutable(add or remove items), items don't need to be unique, can be nested inside another list\n",
    " "
   ]
  },
  {
   "cell_type": "code",
   "execution_count": 23,
   "id": "9b897da9",
   "metadata": {},
   "outputs": [],
   "source": [
    "my_num_list = [1, 2, 3, 4]\n",
    "my_string_list = ['hello','world']\n",
    "my_mixed_list = [1, 2, 'hello']"
   ]
  },
  {
   "cell_type": "code",
   "execution_count": 11,
   "id": "1614d4b9",
   "metadata": {},
   "outputs": [
    {
     "name": "stdout",
     "output_type": "stream",
     "text": [
      "[1, 2, 3, 4]\n"
     ]
    }
   ],
   "source": [
    "print(my_num_list)"
   ]
  },
  {
   "cell_type": "markdown",
   "id": "1eb2cade",
   "metadata": {},
   "source": [
    "## Task 1: Print each item in the list<b> \n",
    "    \n",
    "    hint: for item in list, print item"
   ]
  },
  {
   "cell_type": "markdown",
   "id": "c1e9f9e9",
   "metadata": {},
   "source": [
    "<b> The 'for' loop, print 1 to 9 with a forloop "
   ]
  },
  {
   "cell_type": "code",
   "execution_count": 1,
   "id": "c6d58a12",
   "metadata": {
    "scrolled": true
   },
   "outputs": [
    {
     "name": "stdout",
     "output_type": "stream",
     "text": [
      "0\n",
      "1\n",
      "2\n",
      "3\n",
      "4\n",
      "5\n",
      "6\n",
      "7\n",
      "8\n",
      "9\n"
     ]
    }
   ],
   "source": [
    "for i in range(0, 10):\n",
    "        print(i)"
   ]
  },
  {
   "cell_type": "code",
   "execution_count": null,
   "id": "d5a3aff3",
   "metadata": {},
   "outputs": [],
   "source": []
  },
  {
   "cell_type": "markdown",
   "id": "6e91146b",
   "metadata": {},
   "source": [
    "## Task 2: Count 1 to 10 with the for loop"
   ]
  },
  {
   "cell_type": "code",
   "execution_count": null,
   "id": "0db6c9f1",
   "metadata": {},
   "outputs": [],
   "source": []
  },
  {
   "cell_type": "markdown",
   "id": "cd33242f",
   "metadata": {},
   "source": [
    "## Task 3: Access items in a list\n",
    "    \n",
    "    hint: the list is ordered"
   ]
  },
  {
   "cell_type": "code",
   "execution_count": 15,
   "id": "8272949c",
   "metadata": {},
   "outputs": [
    {
     "data": {
      "text/plain": [
       "'hello'"
      ]
     },
     "execution_count": 15,
     "metadata": {},
     "output_type": "execute_result"
    }
   ],
   "source": []
  },
  {
   "cell_type": "markdown",
   "id": "0008b4e5",
   "metadata": {},
   "source": [
    "## Remove an item from list\n",
    "    \n",
    "    hint: remove(item)"
   ]
  },
  {
   "cell_type": "code",
   "execution_count": 24,
   "id": "8196c27f",
   "metadata": {},
   "outputs": [
    {
     "name": "stdout",
     "output_type": "stream",
     "text": [
      "[1, 3, 4]\n"
     ]
    }
   ],
   "source": []
  },
  {
   "cell_type": "markdown",
   "id": "823a9c08",
   "metadata": {},
   "source": [
    "## Task 4: find out what they do and write an example: \n",
    "    \n",
    "    insert(), count(), sort(), append()"
   ]
  },
  {
   "cell_type": "code",
   "execution_count": null,
   "id": "a7ed50cb",
   "metadata": {},
   "outputs": [],
   "source": []
  },
  {
   "cell_type": "markdown",
   "id": "d99d523a",
   "metadata": {},
   "source": [
    "# Concatenate strings"
   ]
  },
  {
   "cell_type": "code",
   "execution_count": 39,
   "id": "cce82fdd",
   "metadata": {},
   "outputs": [
    {
     "name": "stdout",
     "output_type": "stream",
     "text": [
      "hello world\n"
     ]
    }
   ],
   "source": [
    "str1 = 'hello'\n",
    "str2 = 'world'\n",
    "print (str1 + ' ' + str2)"
   ]
  },
  {
   "cell_type": "markdown",
   "id": "f8e7044c",
   "metadata": {},
   "source": [
    "## Task 5: concatenate a string 'year' to each item of a list\n",
    "    \n",
    "    new list should look like [1990_year, 2001_year, 2022_year]\n",
    "    \n",
    "    hint: create a new list, concatenate each item and append the item to the new list\n",
    "    \n",
    "    you can only concatenate a string with a string!"
   ]
  },
  {
   "cell_type": "code",
   "execution_count": 42,
   "id": "77596af3",
   "metadata": {},
   "outputs": [],
   "source": [
    "year_list = [1990, 2001, 2022]"
   ]
  },
  {
   "cell_type": "code",
   "execution_count": null,
   "id": "f4dfc183",
   "metadata": {},
   "outputs": [],
   "source": []
  },
  {
   "cell_type": "markdown",
   "id": "8826afa3",
   "metadata": {},
   "source": [
    "# Array\n",
    "    \n",
    "similar to a list, but you can only store the same data type (Numpy array supports different data types!)"
   ]
  },
  {
   "cell_type": "code",
   "execution_count": 112,
   "id": "10746b8d",
   "metadata": {},
   "outputs": [],
   "source": [
    "arr = [1,2,3,4,5]"
   ]
  },
  {
   "cell_type": "code",
   "execution_count": 107,
   "id": "89b09bdb",
   "metadata": {},
   "outputs": [],
   "source": [
    "arr2='abcd'"
   ]
  },
  {
   "cell_type": "markdown",
   "id": "a1e784dd",
   "metadata": {},
   "source": [
    "## Task 6: add 1 to each item in an array\n",
    "\n",
    "you need to create an empty array and append the operated item to this new array"
   ]
  },
  {
   "cell_type": "code",
   "execution_count": 115,
   "id": "684ddc73",
   "metadata": {},
   "outputs": [
    {
     "name": "stdout",
     "output_type": "stream",
     "text": [
      "[2, 3, 4, 5, 6]\n"
     ]
    }
   ],
   "source": []
  },
  {
   "cell_type": "markdown",
   "id": "2c21d1f2",
   "metadata": {},
   "source": [
    "# Tuple \n",
    "    \n",
    "Unlike lists, Python’s tuple objects are immutable. Tuples are another data structure that can hold elements of arbitrary data types."
   ]
  },
  {
   "cell_type": "code",
   "execution_count": 57,
   "id": "21ac8103",
   "metadata": {},
   "outputs": [],
   "source": [
    "tup = (\"one\", \"two\", \"three\")"
   ]
  },
  {
   "cell_type": "code",
   "execution_count": 58,
   "id": "6c800b90",
   "metadata": {},
   "outputs": [
    {
     "data": {
      "text/plain": [
       "'one'"
      ]
     },
     "execution_count": 58,
     "metadata": {},
     "output_type": "execute_result"
    }
   ],
   "source": [
    "tup[0]"
   ]
  },
  {
   "cell_type": "code",
   "execution_count": 59,
   "id": "867d6482",
   "metadata": {},
   "outputs": [
    {
     "ename": "TypeError",
     "evalue": "'tuple' object doesn't support item deletion",
     "output_type": "error",
     "traceback": [
      "\u001b[0;31m---------------------------------------------------------------------------\u001b[0m",
      "\u001b[0;31mTypeError\u001b[0m                                 Traceback (most recent call last)",
      "\u001b[0;32m/var/folders/88/jsdt6c8d5n544nck965jx7xm0000gp/T/ipykernel_45889/3561123514.py\u001b[0m in \u001b[0;36m<module>\u001b[0;34m\u001b[0m\n\u001b[0;32m----> 1\u001b[0;31m \u001b[0;32mdel\u001b[0m \u001b[0mtup\u001b[0m\u001b[0;34m[\u001b[0m\u001b[0;36m0\u001b[0m\u001b[0;34m]\u001b[0m\u001b[0;34m\u001b[0m\u001b[0;34m\u001b[0m\u001b[0m\n\u001b[0m",
      "\u001b[0;31mTypeError\u001b[0m: 'tuple' object doesn't support item deletion"
     ]
    }
   ],
   "source": [
    "del tup[0]"
   ]
  },
  {
   "cell_type": "markdown",
   "id": "e65f3159",
   "metadata": {},
   "source": [
    "#  Dictionary \n",
    "\n",
    "    This is a very important data type for natural language processing!\n",
    "    \n",
    "    Dictionary items are ordered, changeable, and does not allow duplicates.\n",
    "\n",
    "    Dictionary items are presented in key:value pairs, and can be referred to by using the key name.\n",
    "\n"
   ]
  },
  {
   "cell_type": "code",
   "execution_count": 63,
   "id": "436c2385",
   "metadata": {},
   "outputs": [],
   "source": [
    "car_dict = {\n",
    "  \"brand\": \"Toyota\",\n",
    "  \"model\": \"Corolla\",\n",
    "  \"year\": 2021\n",
    "}"
   ]
  },
  {
   "cell_type": "code",
   "execution_count": 64,
   "id": "29ec2f87",
   "metadata": {},
   "outputs": [
    {
     "name": "stdout",
     "output_type": "stream",
     "text": [
      "{'brand': 'Toyota', 'model': 'Corolla', 'year': 2021}\n"
     ]
    }
   ],
   "source": [
    "print(car_dict)"
   ]
  },
  {
   "cell_type": "code",
   "execution_count": 65,
   "id": "75826e8b",
   "metadata": {},
   "outputs": [
    {
     "name": "stdout",
     "output_type": "stream",
     "text": [
      "dict_keys(['brand', 'model', 'year'])\n"
     ]
    }
   ],
   "source": [
    "print(car_dict.keys())"
   ]
  },
  {
   "cell_type": "code",
   "execution_count": 67,
   "id": "680e9c0e",
   "metadata": {},
   "outputs": [
    {
     "name": "stdout",
     "output_type": "stream",
     "text": [
      "Toyota\n"
     ]
    }
   ],
   "source": [
    "print(car_dict['brand'])"
   ]
  },
  {
   "cell_type": "markdown",
   "id": "d8e54663",
   "metadata": {},
   "source": [
    "## Append elements to dictionary"
   ]
  },
  {
   "cell_type": "code",
   "execution_count": 83,
   "id": "24f0b74e",
   "metadata": {},
   "outputs": [
    {
     "name": "stdout",
     "output_type": "stream",
     "text": [
      "{'brand': 'Toyota', 'model': 'Corolla', 'year': 2021, 'username': 'Lucia'}\n"
     ]
    }
   ],
   "source": [
    "car_dict['username'] = 'Lucia'\n",
    "print(car_dict)"
   ]
  },
  {
   "cell_type": "code",
   "execution_count": 80,
   "id": "337638dd",
   "metadata": {},
   "outputs": [
    {
     "name": "stdout",
     "output_type": "stream",
     "text": [
      "{'brand': ['Toyota', 'Honda'], 'model': ['Corolla', 'Civic'], 'year': [2021, 2022]}\n"
     ]
    }
   ],
   "source": [
    "print(cars_dict)"
   ]
  },
  {
   "cell_type": "markdown",
   "id": "cc4d69a5",
   "metadata": {},
   "source": [
    "## Nested Dictionary"
   ]
  },
  {
   "cell_type": "code",
   "execution_count": 101,
   "id": "e2aa595c",
   "metadata": {},
   "outputs": [],
   "source": [
    "tweet_dict = {\n",
    "  1: {\"userid\": \"000234\",\n",
    "  \"Tweet\": \"That strange moment when someone reminds the teacher about the homework.\"},\n",
    "  2: {\"userid\": \"002214\",\n",
    "  \"Tweet\": \"I get nervous when I see others studying so much before the test.\"},     \n",
    "}"
   ]
  },
  {
   "cell_type": "code",
   "execution_count": 85,
   "id": "f4874fd2",
   "metadata": {},
   "outputs": [
    {
     "name": "stdout",
     "output_type": "stream",
     "text": [
      "{1: {'userid': '000234', 'Tweet': 'That strange moment when someone reminds the teacher about the homework.'}, 2: {'userid': '002214', 'Tweet': ' I get nervous when I see others studying so much before the test.'}}\n"
     ]
    }
   ],
   "source": [
    "print(tweet_dict)"
   ]
  },
  {
   "cell_type": "markdown",
   "id": "b0e69b70",
   "metadata": {},
   "source": [
    "## Task 7:  Split the words in each tweet \n",
    "\n",
    "result should look like:\n",
    "\n",
    "['That', 'strange', 'moment', 'when', 'someone', 'reminds', 'the', 'teacher', 'about', 'the', 'homework.']\n",
    "\n",
    "hint: \n",
    "\n",
    "dictionary items are presented in key:value pairs, the for loop should look like:\n",
    "\n",
    "for key, value in dictionary items: do sth\n",
    "\n",
    "call string.split(\"separator\") The separator can be space, comma or any symbol\n",
    "  \n",
    " \n"
   ]
  },
  {
   "cell_type": "code",
   "execution_count": 103,
   "id": "a2c1f524",
   "metadata": {},
   "outputs": [
    {
     "name": "stdout",
     "output_type": "stream",
     "text": [
      "['That', 'strange', 'moment', 'when', 'someone', 'reminds', 'the', 'teacher', 'about', 'the', 'homework.']\n",
      "['I', 'get', 'nervous', 'when', 'I', 'see', 'others', 'studying', 'so', 'much', 'before', 'the', 'test.']\n"
     ]
    }
   ],
   "source": []
  }
 ],
 "metadata": {
  "kernelspec": {
   "display_name": "Python 3 (ipykernel)",
   "language": "python",
   "name": "python3"
  },
  "language_info": {
   "codemirror_mode": {
    "name": "ipython",
    "version": 3
   },
   "file_extension": ".py",
   "mimetype": "text/x-python",
   "name": "python",
   "nbconvert_exporter": "python",
   "pygments_lexer": "ipython3",
   "version": "3.9.7"
  }
 },
 "nbformat": 4,
 "nbformat_minor": 5
}
